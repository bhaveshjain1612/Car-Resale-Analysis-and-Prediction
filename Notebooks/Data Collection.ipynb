{
    "cells": [
        {
            "cell_type": "markdown",
            "metadata": {},
            "source": "# <center> Data Collection and Cleaning"
        },
        {
            "cell_type": "markdown",
            "metadata": {},
            "source": "**Overview** - The notebook serves the purpose of importing the data, converting the needed features to the desired datatypes, handling null values etc. <br>\n**Result** - The cleaned data is the exported to be used further by the visualisation and prediction noteboo\n**Process** - <br>\n - [Importing the Libraries](#Installing-Libraries)\n - [Importing the Data](#Importing-the-Data)\n - [Examining the Data](#Examining-the-Data)\n"
        },
        {
            "cell_type": "markdown",
            "metadata": {},
            "source": "## Installing Libraries\n"
        },
        {
            "cell_type": "markdown",
            "metadata": {},
            "source": "We will install the needfull libraries over here using the ```!pip install``` command.<br>\nLibraries used are:<br>\n- Pandas and Numpy : For data handling\n- Seaborn and Matplotlib : For Visualisation\n- Projects : To retrieve and add data to the project\n`\n\nThis followed by importing the libraries for further use\n"
        },
        {
            "cell_type": "code",
            "execution_count": 5,
            "metadata": {
                "collapsed": true
            },
            "outputs": [
                {
                    "name": "stdout",
                    "output_type": "stream",
                    "text": "Requirement already satisfied: pandas in /opt/conda/envs/Python-3.8-main/lib/python3.8/site-packages (1.2.4)\nRequirement already satisfied: python-dateutil>=2.7.3 in /opt/conda/envs/Python-3.8-main/lib/python3.8/site-packages (from pandas) (2.8.1)\nRequirement already satisfied: pytz>=2017.3 in /opt/conda/envs/Python-3.8-main/lib/python3.8/site-packages (from pandas) (2021.1)\nRequirement already satisfied: numpy>=1.16.5 in /opt/conda/envs/Python-3.8-main/lib/python3.8/site-packages (from pandas) (1.19.2)\nRequirement already satisfied: six>=1.5 in /opt/conda/envs/Python-3.8-main/lib/python3.8/site-packages (from python-dateutil>=2.7.3->pandas) (1.15.0)\nRequirement already satisfied: numpy in /opt/conda/envs/Python-3.8-main/lib/python3.8/site-packages (1.19.2)\nRequirement already satisfied: seaborn in /opt/conda/envs/Python-3.8-main/lib/python3.8/site-packages (0.11.1)\nRequirement already satisfied: scipy>=1.0 in /opt/conda/envs/Python-3.8-main/lib/python3.8/site-packages (from seaborn) (1.4.1)\nRequirement already satisfied: pandas>=0.23 in /opt/conda/envs/Python-3.8-main/lib/python3.8/site-packages (from seaborn) (1.2.4)\nRequirement already satisfied: numpy>=1.15 in /opt/conda/envs/Python-3.8-main/lib/python3.8/site-packages (from seaborn) (1.19.2)\nRequirement already satisfied: matplotlib>=2.2 in /opt/conda/envs/Python-3.8-main/lib/python3.8/site-packages (from seaborn) (3.3.4)\nRequirement already satisfied: pyparsing!=2.0.4,!=2.1.2,!=2.1.6,>=2.0.3 in /opt/conda/envs/Python-3.8-main/lib/python3.8/site-packages (from matplotlib>=2.2->seaborn) (2.4.7)\nRequirement already satisfied: python-dateutil>=2.1 in /opt/conda/envs/Python-3.8-main/lib/python3.8/site-packages (from matplotlib>=2.2->seaborn) (2.8.1)\nRequirement already satisfied: kiwisolver>=1.0.1 in /opt/conda/envs/Python-3.8-main/lib/python3.8/site-packages (from matplotlib>=2.2->seaborn) (1.3.1)\nRequirement already satisfied: pillow>=6.2.0 in /opt/conda/envs/Python-3.8-main/lib/python3.8/site-packages (from matplotlib>=2.2->seaborn) (8.3.1)\nRequirement already satisfied: cycler>=0.10 in /opt/conda/envs/Python-3.8-main/lib/python3.8/site-packages (from matplotlib>=2.2->seaborn) (0.10.0)\nRequirement already satisfied: six in /opt/conda/envs/Python-3.8-main/lib/python3.8/site-packages (from cycler>=0.10->matplotlib>=2.2->seaborn) (1.15.0)\nRequirement already satisfied: pytz>=2017.3 in /opt/conda/envs/Python-3.8-main/lib/python3.8/site-packages (from pandas>=0.23->seaborn) (2021.1)\nRequirement already satisfied: matplotlib in /opt/conda/envs/Python-3.8-main/lib/python3.8/site-packages (3.3.4)\nRequirement already satisfied: cycler>=0.10 in /opt/conda/envs/Python-3.8-main/lib/python3.8/site-packages (from matplotlib) (0.10.0)\nRequirement already satisfied: kiwisolver>=1.0.1 in /opt/conda/envs/Python-3.8-main/lib/python3.8/site-packages (from matplotlib) (1.3.1)\nRequirement already satisfied: python-dateutil>=2.1 in /opt/conda/envs/Python-3.8-main/lib/python3.8/site-packages (from matplotlib) (2.8.1)\nRequirement already satisfied: numpy>=1.15 in /opt/conda/envs/Python-3.8-main/lib/python3.8/site-packages (from matplotlib) (1.19.2)\nRequirement already satisfied: pyparsing!=2.0.4,!=2.1.2,!=2.1.6,>=2.0.3 in /opt/conda/envs/Python-3.8-main/lib/python3.8/site-packages (from matplotlib) (2.4.7)\nRequirement already satisfied: pillow>=6.2.0 in /opt/conda/envs/Python-3.8-main/lib/python3.8/site-packages (from matplotlib) (8.3.1)\nRequirement already satisfied: six in /opt/conda/envs/Python-3.8-main/lib/python3.8/site-packages (from cycler>=0.10->matplotlib) (1.15.0)\nRequirement already satisfied: plotly in /opt/conda/envs/Python-3.8-main/lib/python3.8/site-packages (4.14.3)\nRequirement already satisfied: six in /opt/conda/envs/Python-3.8-main/lib/python3.8/site-packages (from plotly) (1.15.0)\nRequirement already satisfied: retrying>=1.3.3 in /opt/conda/envs/Python-3.8-main/lib/python3.8/site-packages (from plotly) (1.3.3)\nRequirement already satisfied: scikit_learn in /opt/conda/envs/Python-3.8-main/lib/python3.8/site-packages (0.23.2)\nRequirement already satisfied: joblib>=0.11 in /opt/conda/envs/Python-3.8-main/lib/python3.8/site-packages (from scikit_learn) (0.17.0)\nRequirement already satisfied: numpy>=1.13.3 in /opt/conda/envs/Python-3.8-main/lib/python3.8/site-packages (from scikit_learn) (1.19.2)\nRequirement already satisfied: threadpoolctl>=2.0.0 in /opt/conda/envs/Python-3.8-main/lib/python3.8/site-packages (from scikit_learn) (2.1.0)\nRequirement already satisfied: scipy>=0.19.1 in /opt/conda/envs/Python-3.8-main/lib/python3.8/site-packages (from scikit_learn) (1.4.1)\n"
                }
            ],
            "source": "!pip install pandas\n!pip install numpy\n!pip install seaborn\n!pip install matplotlib"
        },
        {
            "cell_type": "code",
            "execution_count": 12,
            "metadata": {},
            "outputs": [],
            "source": "project_token = 'p-3f704f3cdf69a8a61cd7aa18710a153652a855a1'"
        },
        {
            "cell_type": "code",
            "execution_count": 13,
            "metadata": {},
            "outputs": [],
            "source": "import pandas as pd\nimport numpy as np\nimport seaborn as sns\nimport matplotlib.pyplot as plt\n%matplotlib inline\nfrom project_lib import Project\nproject = Project( project_access_token=project_token)\npc = project.project_context"
        },
        {
            "cell_type": "markdown",
            "metadata": {},
            "source": "## Importing the Data\n"
        },
        {
            "cell_type": "markdown",
            "metadata": {},
            "source": "The data is imported to the notebbok from the assets section of the project<br>\nThe code over here is imported directly from the watson data functionality"
        },
        {
            "cell_type": "code",
            "execution_count": 18,
            "metadata": {},
            "outputs": [],
            "source": "# The code was removed by Watson Studio for sharing."
        },
        {
            "cell_type": "markdown",
            "metadata": {},
            "source": "We will install the needfull libraries over here using the ```.read_csv``` command of Pandas<br>\nThe imported csv is stored as a dtaframe with the name ```data```."
        },
        {
            "cell_type": "code",
            "execution_count": 19,
            "metadata": {},
            "outputs": [],
            "source": "data = pd.read_csv(body)"
        },
        {
            "cell_type": "markdown",
            "metadata": {},
            "source": "Viewing the head of the data"
        },
        {
            "cell_type": "code",
            "execution_count": 20,
            "metadata": {
                "scrolled": false
            },
            "outputs": [
                {
                    "data": {
                        "text/html": "<div>\n<style scoped>\n    .dataframe tbody tr th:only-of-type {\n        vertical-align: middle;\n    }\n\n    .dataframe tbody tr th {\n        vertical-align: top;\n    }\n\n    .dataframe thead th {\n        text-align: right;\n    }\n</style>\n<table border=\"1\" class=\"dataframe\">\n  <thead>\n    <tr style=\"text-align: right;\">\n      <th></th>\n      <th>Source.Name</th>\n      <th>web-scraper-order</th>\n      <th>web-scraper-start-url</th>\n      <th>full_name</th>\n      <th>selling_price</th>\n      <th>new-price</th>\n      <th>year</th>\n      <th>seller_type</th>\n      <th>km_driven</th>\n      <th>owner_type</th>\n      <th>fuel_type</th>\n      <th>transmission_type</th>\n      <th>mileage</th>\n      <th>engine</th>\n      <th>max_power</th>\n      <th>seats</th>\n    </tr>\n  </thead>\n  <tbody>\n    <tr>\n      <th>0</th>\n      <td>cardekho_extract(0-2000).csv</td>\n      <td>1611917819-1662</td>\n      <td>https://www.cardekho.com/used-car-details/used...</td>\n      <td>Maruti Alto Std</td>\n      <td>1.2 Lakh*</td>\n      <td>NaN</td>\n      <td>2012.0</td>\n      <td>Individual</td>\n      <td>1,20,000 kms</td>\n      <td>First Owner</td>\n      <td>Petrol</td>\n      <td>Manual</td>\n      <td>Mileage19.7 kmpl</td>\n      <td>Engine796 CC</td>\n      <td>Max Power46.3 bhp</td>\n      <td>Seats5</td>\n    </tr>\n    <tr>\n      <th>1</th>\n      <td>cardekho_extract(0-2000).csv</td>\n      <td>1611918361-1902</td>\n      <td>https://www.cardekho.com/used-car-details/used...</td>\n      <td>Hyundai Grand i10 Asta</td>\n      <td>5.5 Lakh*</td>\n      <td>New Car (On-Road Price) : Rs.7.11-7.48 Lakh*</td>\n      <td>2016.0</td>\n      <td>Individual</td>\n      <td>20,000 kms</td>\n      <td>First Owner</td>\n      <td>Petrol</td>\n      <td>Manual</td>\n      <td>Mileage18.9 kmpl</td>\n      <td>Engine1197 CC</td>\n      <td>Max Power82 bhp</td>\n      <td>Seats5</td>\n    </tr>\n    <tr>\n      <th>2</th>\n      <td>cardekho_extract(0-2000).csv</td>\n      <td>1611917012-1306</td>\n      <td>https://www.cardekho.com/used-car-details/used...</td>\n      <td>Hyundai i20 Asta</td>\n      <td>2.15 Lakh*</td>\n      <td>NaN</td>\n      <td>2010.0</td>\n      <td>Individual</td>\n      <td>60,000 kms</td>\n      <td>First Owner</td>\n      <td>Petrol</td>\n      <td>Manual</td>\n      <td>Mileage17.0 kmpl</td>\n      <td>Engine1197 CC</td>\n      <td>Max Power80 bhp</td>\n      <td>Seats5</td>\n    </tr>\n    <tr>\n      <th>3</th>\n      <td>cardekho_extract(0-2000).csv</td>\n      <td>1611917695-1607</td>\n      <td>https://www.cardekho.com/used-car-details/used...</td>\n      <td>Maruti Alto K10 2010-2014 VXI</td>\n      <td>2.26 Lakh*</td>\n      <td>NaN</td>\n      <td>2012.0</td>\n      <td>Individual</td>\n      <td>37,000 kms</td>\n      <td>First Owner</td>\n      <td>Petrol</td>\n      <td>Manual</td>\n      <td>Mileage20.92 kmpl</td>\n      <td>Engine998 CC</td>\n      <td>Max Power67.1 bhp</td>\n      <td>Seats5</td>\n    </tr>\n    <tr>\n      <th>4</th>\n      <td>cardekho_extract(0-2000).csv</td>\n      <td>1611914861-367</td>\n      <td>https://www.cardekho.com/used-car-details/used...</td>\n      <td>Ford Ecosport 2015-2021 1.5 TDCi Titanium BSIV</td>\n      <td>5.7 Lakh*</td>\n      <td>New Car (On-Road Price) : Rs.10.14-13.79 Lakh*</td>\n      <td>2015.0</td>\n      <td>Dealer</td>\n      <td>30,000 kms</td>\n      <td>First Owner</td>\n      <td>Diesel</td>\n      <td>Manual</td>\n      <td>Mileage22.77 kmpl</td>\n      <td>Engine1498 CC</td>\n      <td>Max Power98.59 bhp</td>\n      <td>Seats5</td>\n    </tr>\n  </tbody>\n</table>\n</div>",
                        "text/plain": "                    Source.Name web-scraper-order  \\\n0  cardekho_extract(0-2000).csv   1611917819-1662   \n1  cardekho_extract(0-2000).csv   1611918361-1902   \n2  cardekho_extract(0-2000).csv   1611917012-1306   \n3  cardekho_extract(0-2000).csv   1611917695-1607   \n4  cardekho_extract(0-2000).csv    1611914861-367   \n\n                               web-scraper-start-url  \\\n0  https://www.cardekho.com/used-car-details/used...   \n1  https://www.cardekho.com/used-car-details/used...   \n2  https://www.cardekho.com/used-car-details/used...   \n3  https://www.cardekho.com/used-car-details/used...   \n4  https://www.cardekho.com/used-car-details/used...   \n\n                                        full_name selling_price  \\\n0                                 Maruti Alto Std     1.2 Lakh*   \n1                          Hyundai Grand i10 Asta     5.5 Lakh*   \n2                                Hyundai i20 Asta    2.15 Lakh*   \n3                   Maruti Alto K10 2010-2014 VXI    2.26 Lakh*   \n4  Ford Ecosport 2015-2021 1.5 TDCi Titanium BSIV     5.7 Lakh*   \n\n                                        new-price    year seller_type  \\\n0                                             NaN  2012.0  Individual   \n1    New Car (On-Road Price) : Rs.7.11-7.48 Lakh*  2016.0  Individual   \n2                                             NaN  2010.0  Individual   \n3                                             NaN  2012.0  Individual   \n4  New Car (On-Road Price) : Rs.10.14-13.79 Lakh*  2015.0      Dealer   \n\n      km_driven   owner_type fuel_type transmission_type            mileage  \\\n0  1,20,000 kms  First Owner    Petrol            Manual   Mileage19.7 kmpl   \n1    20,000 kms  First Owner    Petrol            Manual   Mileage18.9 kmpl   \n2    60,000 kms  First Owner    Petrol            Manual   Mileage17.0 kmpl   \n3    37,000 kms  First Owner    Petrol            Manual  Mileage20.92 kmpl   \n4    30,000 kms  First Owner    Diesel            Manual  Mileage22.77 kmpl   \n\n          engine           max_power   seats  \n0   Engine796 CC   Max Power46.3 bhp  Seats5  \n1  Engine1197 CC     Max Power82 bhp  Seats5  \n2  Engine1197 CC     Max Power80 bhp  Seats5  \n3   Engine998 CC   Max Power67.1 bhp  Seats5  \n4  Engine1498 CC  Max Power98.59 bhp  Seats5  "
                    },
                    "execution_count": 20,
                    "metadata": {},
                    "output_type": "execute_result"
                }
            ],
            "source": "data.head()"
        },
        {
            "cell_type": "markdown",
            "metadata": {},
            "source": "## Examining the Data"
        },
        {
            "cell_type": "markdown",
            "metadata": {},
            "source": "Now since the data is imported we will see the composition and various data types and look for null values etc."
        },
        {
            "cell_type": "markdown",
            "metadata": {},
            "source": "Looking at the data shape"
        },
        {
            "cell_type": "code",
            "execution_count": 23,
            "metadata": {},
            "outputs": [
                {
                    "data": {
                        "text/plain": "(20026, 16)"
                    },
                    "execution_count": 23,
                    "metadata": {},
                    "output_type": "execute_result"
                }
            ],
            "source": "data.shape"
        },
        {
            "cell_type": "markdown",
            "metadata": {},
            "source": "So now we know that there are **20026** observations and **16** columns"
        },
        {
            "cell_type": "markdown",
            "metadata": {},
            "source": "Looking at data types of each column"
        },
        {
            "cell_type": "code",
            "execution_count": 24,
            "metadata": {},
            "outputs": [
                {
                    "name": "stdout",
                    "output_type": "stream",
                    "text": "<class 'pandas.core.frame.DataFrame'>\nRangeIndex: 20026 entries, 0 to 20025\nData columns (total 16 columns):\n #   Column                 Non-Null Count  Dtype  \n---  ------                 --------------  -----  \n 0   Source.Name            20026 non-null  object \n 1   web-scraper-order      20026 non-null  object \n 2   web-scraper-start-url  20026 non-null  object \n 3   full_name              19980 non-null  object \n 4   selling_price          19980 non-null  object \n 5   new-price              9566 non-null   object \n 6   year                   19980 non-null  float64\n 7   seller_type            19980 non-null  object \n 8   km_driven              19980 non-null  object \n 9   owner_type             19980 non-null  object \n 10  fuel_type              19980 non-null  object \n 11  transmission_type      19980 non-null  object \n 12  mileage                19980 non-null  object \n 13  engine                 19921 non-null  object \n 14  max_power              19921 non-null  object \n 15  seats                  19853 non-null  object \ndtypes: float64(1), object(15)\nmemory usage: 2.4+ MB\n"
                }
            ],
            "source": "data.info()"
        },
        {
            "cell_type": "markdown",
            "metadata": {},
            "source": "Null Values (absolute and percentage) by column\n<br> This shows how many columns have a very high composition of null values rendering them useless"
        },
        {
            "cell_type": "code",
            "execution_count": 36,
            "metadata": {
                "scrolled": false
            },
            "outputs": [
                {
                    "data": {
                        "text/html": "<div>\n<style scoped>\n    .dataframe tbody tr th:only-of-type {\n        vertical-align: middle;\n    }\n\n    .dataframe tbody tr th {\n        vertical-align: top;\n    }\n\n    .dataframe thead th {\n        text-align: right;\n    }\n</style>\n<table border=\"1\" class=\"dataframe\">\n  <thead>\n    <tr style=\"text-align: right;\">\n      <th></th>\n      <th>Number of Null Values</th>\n      <th>% of null values</th>\n    </tr>\n    <tr>\n      <th>Column</th>\n      <th></th>\n      <th></th>\n    </tr>\n  </thead>\n  <tbody>\n    <tr>\n      <th>new-price</th>\n      <td>10460</td>\n      <td>0.522321</td>\n    </tr>\n    <tr>\n      <th>seats</th>\n      <td>173</td>\n      <td>0.008639</td>\n    </tr>\n    <tr>\n      <th>engine</th>\n      <td>105</td>\n      <td>0.005243</td>\n    </tr>\n    <tr>\n      <th>max_power</th>\n      <td>105</td>\n      <td>0.005243</td>\n    </tr>\n    <tr>\n      <th>full_name</th>\n      <td>46</td>\n      <td>0.002297</td>\n    </tr>\n    <tr>\n      <th>selling_price</th>\n      <td>46</td>\n      <td>0.002297</td>\n    </tr>\n    <tr>\n      <th>year</th>\n      <td>46</td>\n      <td>0.002297</td>\n    </tr>\n    <tr>\n      <th>seller_type</th>\n      <td>46</td>\n      <td>0.002297</td>\n    </tr>\n    <tr>\n      <th>km_driven</th>\n      <td>46</td>\n      <td>0.002297</td>\n    </tr>\n    <tr>\n      <th>owner_type</th>\n      <td>46</td>\n      <td>0.002297</td>\n    </tr>\n    <tr>\n      <th>fuel_type</th>\n      <td>46</td>\n      <td>0.002297</td>\n    </tr>\n    <tr>\n      <th>transmission_type</th>\n      <td>46</td>\n      <td>0.002297</td>\n    </tr>\n    <tr>\n      <th>mileage</th>\n      <td>46</td>\n      <td>0.002297</td>\n    </tr>\n    <tr>\n      <th>Source.Name</th>\n      <td>0</td>\n      <td>0.000000</td>\n    </tr>\n    <tr>\n      <th>web-scraper-order</th>\n      <td>0</td>\n      <td>0.000000</td>\n    </tr>\n    <tr>\n      <th>web-scraper-start-url</th>\n      <td>0</td>\n      <td>0.000000</td>\n    </tr>\n  </tbody>\n</table>\n</div>",
                        "text/plain": "                       Number of Null Values  % of null values\nColumn                                                        \nnew-price                              10460          0.522321\nseats                                    173          0.008639\nengine                                   105          0.005243\nmax_power                                105          0.005243\nfull_name                                 46          0.002297\nselling_price                             46          0.002297\nyear                                      46          0.002297\nseller_type                               46          0.002297\nkm_driven                                 46          0.002297\nowner_type                                46          0.002297\nfuel_type                                 46          0.002297\ntransmission_type                         46          0.002297\nmileage                                   46          0.002297\nSource.Name                                0          0.000000\nweb-scraper-order                          0          0.000000\nweb-scraper-start-url                      0          0.000000"
                    },
                    "metadata": {},
                    "output_type": "display_data"
                }
            ],
            "source": "Column,NullValues,NullValuespercentage = [],[],[]\nfor i in data.columns:\n    Column.append(i)\n    NullValues.append(data[i].isnull().sum())\n    NullValuespercentage.append(data[i].isnull().mean())\ndisplay(pd.DataFrame({'Column':Column,'Number of Null Values':NullValues,'% of null values':NullValuespercentage}).sort_values(by='% of null values',ascending=False).set_index('Column'))"
        }
    ],
    "metadata": {
        "kernelspec": {
            "display_name": "Python 3.8",
            "language": "python",
            "name": "python3"
        },
        "language_info": {
            "codemirror_mode": {
                "name": "ipython",
                "version": 3
            },
            "file_extension": ".py",
            "mimetype": "text/x-python",
            "name": "python",
            "nbconvert_exporter": "python",
            "pygments_lexer": "ipython3",
            "version": "3.8.11"
        }
    },
    "nbformat": 4,
    "nbformat_minor": 1
}