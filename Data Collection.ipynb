{
    "cells": [
        {
            "cell_type": "markdown",
            "metadata": {},
            "source": "# <center> Data Collection and Cleaning"
        },
        {
            "cell_type": "markdown",
            "metadata": {},
            "source": "**Overview** - The notebook serves the purpose of importing the data, converting the needed features to the desired datatypes, handling null values etc. <br>\n**Result** - The cleaned data is the exported to be used further by the visualisation and prediction notebook<br>\n**Process** - <br>\n - [Importing the Libraries](#Installing-Libraries)\n - [Importing the Data](#Importing-the-Data)\n - [Examining the Data](#Examining-the-Data)\n - [Removing null values and unwanted columns](#Removing-null-values-and-unwanted-columns)\n"
        },
        {
            "cell_type": "markdown",
            "metadata": {},
            "source": "## Installing Libraries\n"
        },
        {
            "cell_type": "markdown",
            "metadata": {},
            "source": "We will install the needfull libraries over here using the ```!pip install``` command.<br>\nLibraries used are:<br>\n- Pandas and Numpy : For data handling\n- Seaborn and Matplotlib : For Visualisation\n- Projects : To retrieve and add data to the project\n`\n\nThis followed by importing the libraries for further use\n"
        },
        {
            "cell_type": "markdown",
            "metadata": {
                "collapsed": true
            },
            "source": "!pip install pandas\n!pip install numpy\n!pip install seaborn\n!pip install matplotlib"
        },
        {
            "cell_type": "code",
            "execution_count": 565,
            "metadata": {},
            "outputs": [],
            "source": "project_token = 'p-3f704f3cdf69a8a61cd7aa18710a153652a855a1'"
        },
        {
            "cell_type": "code",
            "execution_count": 566,
            "metadata": {},
            "outputs": [],
            "source": "import pandas as pd\nimport numpy as np\nimport seaborn as sns\nimport matplotlib.pyplot as plt\n%matplotlib inline\nfrom project_lib import Project\nproject = Project( project_access_token=project_token)\npc = project.project_context"
        },
        {
            "cell_type": "markdown",
            "metadata": {},
            "source": "## Importing the Data\n"
        },
        {
            "cell_type": "markdown",
            "metadata": {},
            "source": "The data is imported to the notebbok from the assets section of the project<br>\nThe code over here is imported directly from the watson data functionality"
        },
        {
            "cell_type": "code",
            "execution_count": 567,
            "metadata": {},
            "outputs": [],
            "source": "# The code was removed by Watson Studio for sharing."
        },
        {
            "cell_type": "markdown",
            "metadata": {},
            "source": "We will install the needfull libraries over here using the ```.read_csv``` command of Pandas<br>\nThe imported csv is stored as a dtaframe with the name ```data```."
        },
        {
            "cell_type": "code",
            "execution_count": 568,
            "metadata": {},
            "outputs": [],
            "source": "data = pd.read_csv(body)"
        },
        {
            "cell_type": "markdown",
            "metadata": {},
            "source": "Viewing the head of the data"
        },
        {
            "cell_type": "code",
            "execution_count": 569,
            "metadata": {
                "scrolled": false
            },
            "outputs": [
                {
                    "data": {
                        "text/html": "<div>\n<style scoped>\n    .dataframe tbody tr th:only-of-type {\n        vertical-align: middle;\n    }\n\n    .dataframe tbody tr th {\n        vertical-align: top;\n    }\n\n    .dataframe thead th {\n        text-align: right;\n    }\n</style>\n<table border=\"1\" class=\"dataframe\">\n  <thead>\n    <tr style=\"text-align: right;\">\n      <th></th>\n      <th>Source.Name</th>\n      <th>web-scraper-order</th>\n      <th>web-scraper-start-url</th>\n      <th>full_name</th>\n      <th>selling_price</th>\n      <th>new-price</th>\n      <th>year</th>\n      <th>seller_type</th>\n      <th>km_driven</th>\n      <th>owner_type</th>\n      <th>fuel_type</th>\n      <th>transmission_type</th>\n      <th>mileage</th>\n      <th>engine</th>\n      <th>max_power</th>\n      <th>seats</th>\n    </tr>\n  </thead>\n  <tbody>\n    <tr>\n      <th>0</th>\n      <td>cardekho_extract(0-2000).csv</td>\n      <td>1611917819-1662</td>\n      <td>https://www.cardekho.com/used-car-details/used...</td>\n      <td>Maruti Alto Std</td>\n      <td>1.2 Lakh*</td>\n      <td>NaN</td>\n      <td>2012.0</td>\n      <td>Individual</td>\n      <td>1,20,000 kms</td>\n      <td>First Owner</td>\n      <td>Petrol</td>\n      <td>Manual</td>\n      <td>Mileage19.7 kmpl</td>\n      <td>Engine796 CC</td>\n      <td>Max Power46.3 bhp</td>\n      <td>Seats5</td>\n    </tr>\n    <tr>\n      <th>1</th>\n      <td>cardekho_extract(0-2000).csv</td>\n      <td>1611918361-1902</td>\n      <td>https://www.cardekho.com/used-car-details/used...</td>\n      <td>Hyundai Grand i10 Asta</td>\n      <td>5.5 Lakh*</td>\n      <td>New Car (On-Road Price) : Rs.7.11-7.48 Lakh*</td>\n      <td>2016.0</td>\n      <td>Individual</td>\n      <td>20,000 kms</td>\n      <td>First Owner</td>\n      <td>Petrol</td>\n      <td>Manual</td>\n      <td>Mileage18.9 kmpl</td>\n      <td>Engine1197 CC</td>\n      <td>Max Power82 bhp</td>\n      <td>Seats5</td>\n    </tr>\n    <tr>\n      <th>2</th>\n      <td>cardekho_extract(0-2000).csv</td>\n      <td>1611917012-1306</td>\n      <td>https://www.cardekho.com/used-car-details/used...</td>\n      <td>Hyundai i20 Asta</td>\n      <td>2.15 Lakh*</td>\n      <td>NaN</td>\n      <td>2010.0</td>\n      <td>Individual</td>\n      <td>60,000 kms</td>\n      <td>First Owner</td>\n      <td>Petrol</td>\n      <td>Manual</td>\n      <td>Mileage17.0 kmpl</td>\n      <td>Engine1197 CC</td>\n      <td>Max Power80 bhp</td>\n      <td>Seats5</td>\n    </tr>\n    <tr>\n      <th>3</th>\n      <td>cardekho_extract(0-2000).csv</td>\n      <td>1611917695-1607</td>\n      <td>https://www.cardekho.com/used-car-details/used...</td>\n      <td>Maruti Alto K10 2010-2014 VXI</td>\n      <td>2.26 Lakh*</td>\n      <td>NaN</td>\n      <td>2012.0</td>\n      <td>Individual</td>\n      <td>37,000 kms</td>\n      <td>First Owner</td>\n      <td>Petrol</td>\n      <td>Manual</td>\n      <td>Mileage20.92 kmpl</td>\n      <td>Engine998 CC</td>\n      <td>Max Power67.1 bhp</td>\n      <td>Seats5</td>\n    </tr>\n    <tr>\n      <th>4</th>\n      <td>cardekho_extract(0-2000).csv</td>\n      <td>1611914861-367</td>\n      <td>https://www.cardekho.com/used-car-details/used...</td>\n      <td>Ford Ecosport 2015-2021 1.5 TDCi Titanium BSIV</td>\n      <td>5.7 Lakh*</td>\n      <td>New Car (On-Road Price) : Rs.10.14-13.79 Lakh*</td>\n      <td>2015.0</td>\n      <td>Dealer</td>\n      <td>30,000 kms</td>\n      <td>First Owner</td>\n      <td>Diesel</td>\n      <td>Manual</td>\n      <td>Mileage22.77 kmpl</td>\n      <td>Engine1498 CC</td>\n      <td>Max Power98.59 bhp</td>\n      <td>Seats5</td>\n    </tr>\n  </tbody>\n</table>\n</div>",
                        "text/plain": "                    Source.Name web-scraper-order  \\\n0  cardekho_extract(0-2000).csv   1611917819-1662   \n1  cardekho_extract(0-2000).csv   1611918361-1902   \n2  cardekho_extract(0-2000).csv   1611917012-1306   \n3  cardekho_extract(0-2000).csv   1611917695-1607   \n4  cardekho_extract(0-2000).csv    1611914861-367   \n\n                               web-scraper-start-url  \\\n0  https://www.cardekho.com/used-car-details/used...   \n1  https://www.cardekho.com/used-car-details/used...   \n2  https://www.cardekho.com/used-car-details/used...   \n3  https://www.cardekho.com/used-car-details/used...   \n4  https://www.cardekho.com/used-car-details/used...   \n\n                                        full_name selling_price  \\\n0                                 Maruti Alto Std     1.2 Lakh*   \n1                          Hyundai Grand i10 Asta     5.5 Lakh*   \n2                                Hyundai i20 Asta    2.15 Lakh*   \n3                   Maruti Alto K10 2010-2014 VXI    2.26 Lakh*   \n4  Ford Ecosport 2015-2021 1.5 TDCi Titanium BSIV     5.7 Lakh*   \n\n                                        new-price    year seller_type  \\\n0                                             NaN  2012.0  Individual   \n1    New Car (On-Road Price) : Rs.7.11-7.48 Lakh*  2016.0  Individual   \n2                                             NaN  2010.0  Individual   \n3                                             NaN  2012.0  Individual   \n4  New Car (On-Road Price) : Rs.10.14-13.79 Lakh*  2015.0      Dealer   \n\n      km_driven   owner_type fuel_type transmission_type            mileage  \\\n0  1,20,000 kms  First Owner    Petrol            Manual   Mileage19.7 kmpl   \n1    20,000 kms  First Owner    Petrol            Manual   Mileage18.9 kmpl   \n2    60,000 kms  First Owner    Petrol            Manual   Mileage17.0 kmpl   \n3    37,000 kms  First Owner    Petrol            Manual  Mileage20.92 kmpl   \n4    30,000 kms  First Owner    Diesel            Manual  Mileage22.77 kmpl   \n\n          engine           max_power   seats  \n0   Engine796 CC   Max Power46.3 bhp  Seats5  \n1  Engine1197 CC     Max Power82 bhp  Seats5  \n2  Engine1197 CC     Max Power80 bhp  Seats5  \n3   Engine998 CC   Max Power67.1 bhp  Seats5  \n4  Engine1498 CC  Max Power98.59 bhp  Seats5  "
                    },
                    "execution_count": 569,
                    "metadata": {},
                    "output_type": "execute_result"
                }
            ],
            "source": "data.head()"
        },
        {
            "cell_type": "markdown",
            "metadata": {},
            "source": "## Examining the Data"
        },
        {
            "cell_type": "markdown",
            "metadata": {},
            "source": "Now since the data is imported we will see the composition and various data types and look for null values etc."
        },
        {
            "cell_type": "markdown",
            "metadata": {},
            "source": "Looking at the data shape"
        },
        {
            "cell_type": "code",
            "execution_count": 570,
            "metadata": {},
            "outputs": [
                {
                    "data": {
                        "text/plain": "(20026, 16)"
                    },
                    "execution_count": 570,
                    "metadata": {},
                    "output_type": "execute_result"
                }
            ],
            "source": "data.shape"
        },
        {
            "cell_type": "markdown",
            "metadata": {},
            "source": "So now we know that there are **20026** observations and **16** columns"
        },
        {
            "cell_type": "markdown",
            "metadata": {},
            "source": "Looking at data types of each column"
        },
        {
            "cell_type": "code",
            "execution_count": 571,
            "metadata": {},
            "outputs": [
                {
                    "name": "stdout",
                    "output_type": "stream",
                    "text": "<class 'pandas.core.frame.DataFrame'>\nRangeIndex: 20026 entries, 0 to 20025\nData columns (total 16 columns):\n #   Column                 Non-Null Count  Dtype  \n---  ------                 --------------  -----  \n 0   Source.Name            20026 non-null  object \n 1   web-scraper-order      20026 non-null  object \n 2   web-scraper-start-url  20026 non-null  object \n 3   full_name              19980 non-null  object \n 4   selling_price          19980 non-null  object \n 5   new-price              9566 non-null   object \n 6   year                   19980 non-null  float64\n 7   seller_type            19980 non-null  object \n 8   km_driven              19980 non-null  object \n 9   owner_type             19980 non-null  object \n 10  fuel_type              19980 non-null  object \n 11  transmission_type      19980 non-null  object \n 12  mileage                19980 non-null  object \n 13  engine                 19921 non-null  object \n 14  max_power              19921 non-null  object \n 15  seats                  19853 non-null  object \ndtypes: float64(1), object(15)\nmemory usage: 2.4+ MB\n"
                }
            ],
            "source": "data.info()"
        },
        {
            "cell_type": "markdown",
            "metadata": {},
            "source": "Null Values (absolute and percentage) by column\n<br> This shows how many columns have a very high composition of null values rendering them useless"
        },
        {
            "cell_type": "code",
            "execution_count": 572,
            "metadata": {
                "scrolled": false
            },
            "outputs": [
                {
                    "data": {
                        "text/html": "<div>\n<style scoped>\n    .dataframe tbody tr th:only-of-type {\n        vertical-align: middle;\n    }\n\n    .dataframe tbody tr th {\n        vertical-align: top;\n    }\n\n    .dataframe thead th {\n        text-align: right;\n    }\n</style>\n<table border=\"1\" class=\"dataframe\">\n  <thead>\n    <tr style=\"text-align: right;\">\n      <th></th>\n      <th>Number of Null Values</th>\n      <th>% of null values</th>\n    </tr>\n    <tr>\n      <th>Column</th>\n      <th></th>\n      <th></th>\n    </tr>\n  </thead>\n  <tbody>\n    <tr>\n      <th>new-price</th>\n      <td>10460</td>\n      <td>0.522</td>\n    </tr>\n    <tr>\n      <th>seats</th>\n      <td>173</td>\n      <td>0.009</td>\n    </tr>\n    <tr>\n      <th>engine</th>\n      <td>105</td>\n      <td>0.005</td>\n    </tr>\n    <tr>\n      <th>max_power</th>\n      <td>105</td>\n      <td>0.005</td>\n    </tr>\n    <tr>\n      <th>full_name</th>\n      <td>46</td>\n      <td>0.002</td>\n    </tr>\n    <tr>\n      <th>selling_price</th>\n      <td>46</td>\n      <td>0.002</td>\n    </tr>\n    <tr>\n      <th>year</th>\n      <td>46</td>\n      <td>0.002</td>\n    </tr>\n    <tr>\n      <th>seller_type</th>\n      <td>46</td>\n      <td>0.002</td>\n    </tr>\n    <tr>\n      <th>km_driven</th>\n      <td>46</td>\n      <td>0.002</td>\n    </tr>\n    <tr>\n      <th>owner_type</th>\n      <td>46</td>\n      <td>0.002</td>\n    </tr>\n    <tr>\n      <th>fuel_type</th>\n      <td>46</td>\n      <td>0.002</td>\n    </tr>\n    <tr>\n      <th>transmission_type</th>\n      <td>46</td>\n      <td>0.002</td>\n    </tr>\n    <tr>\n      <th>mileage</th>\n      <td>46</td>\n      <td>0.002</td>\n    </tr>\n    <tr>\n      <th>Source.Name</th>\n      <td>0</td>\n      <td>0.000</td>\n    </tr>\n    <tr>\n      <th>web-scraper-order</th>\n      <td>0</td>\n      <td>0.000</td>\n    </tr>\n    <tr>\n      <th>web-scraper-start-url</th>\n      <td>0</td>\n      <td>0.000</td>\n    </tr>\n  </tbody>\n</table>\n</div>",
                        "text/plain": "                       Number of Null Values  % of null values\nColumn                                                        \nnew-price                              10460             0.522\nseats                                    173             0.009\nengine                                   105             0.005\nmax_power                                105             0.005\nfull_name                                 46             0.002\nselling_price                             46             0.002\nyear                                      46             0.002\nseller_type                               46             0.002\nkm_driven                                 46             0.002\nowner_type                                46             0.002\nfuel_type                                 46             0.002\ntransmission_type                         46             0.002\nmileage                                   46             0.002\nSource.Name                                0             0.000\nweb-scraper-order                          0             0.000\nweb-scraper-start-url                      0             0.000"
                    },
                    "metadata": {},
                    "output_type": "display_data"
                }
            ],
            "source": "Column,NullValues,NullValuespercentage = [],[],[]\nfor i in data.columns:\n    Column.append(i)\n    NullValues.append(data[i].isnull().sum())\n    NullValuespercentage.append(round(data[i].isnull().mean(),3))\ndisplay(pd.DataFrame({'Column':Column,'Number of Null Values':NullValues,'% of null values':NullValuespercentage}).sort_values(by='% of null values',ascending=False).set_index('Column'))"
        },
        {
            "cell_type": "markdown",
            "metadata": {},
            "source": "## Removing null values and unwanted columns"
        },
        {
            "cell_type": "markdown",
            "metadata": {},
            "source": "The _new-price_ column contains more null values than can be handled so this column will be deleted.<br>\nSo will the columns _web-scraper-start-url, web-scraper-order_ and _Source.Name_ as they do not cnovey any meaningful information iand merely there as external refernces"
        },
        {
            "cell_type": "code",
            "execution_count": 573,
            "metadata": {},
            "outputs": [],
            "source": "to_be_removed = ['web-scraper-start-url','Source.Name','web-scraper-order','new-price']\ndata = data.drop(to_be_removed,axis=1)"
        },
        {
            "cell_type": "markdown",
            "metadata": {},
            "source": "Rechecking for null values"
        },
        {
            "cell_type": "code",
            "execution_count": 574,
            "metadata": {},
            "outputs": [
                {
                    "data": {
                        "text/html": "<div>\n<style scoped>\n    .dataframe tbody tr th:only-of-type {\n        vertical-align: middle;\n    }\n\n    .dataframe tbody tr th {\n        vertical-align: top;\n    }\n\n    .dataframe thead th {\n        text-align: right;\n    }\n</style>\n<table border=\"1\" class=\"dataframe\">\n  <thead>\n    <tr style=\"text-align: right;\">\n      <th></th>\n      <th>Number of Null Values</th>\n      <th>% of null values</th>\n    </tr>\n    <tr>\n      <th>Column</th>\n      <th></th>\n      <th></th>\n    </tr>\n  </thead>\n  <tbody>\n    <tr>\n      <th>seats</th>\n      <td>173</td>\n      <td>0.009</td>\n    </tr>\n    <tr>\n      <th>engine</th>\n      <td>105</td>\n      <td>0.005</td>\n    </tr>\n    <tr>\n      <th>max_power</th>\n      <td>105</td>\n      <td>0.005</td>\n    </tr>\n    <tr>\n      <th>full_name</th>\n      <td>46</td>\n      <td>0.002</td>\n    </tr>\n    <tr>\n      <th>selling_price</th>\n      <td>46</td>\n      <td>0.002</td>\n    </tr>\n    <tr>\n      <th>year</th>\n      <td>46</td>\n      <td>0.002</td>\n    </tr>\n    <tr>\n      <th>seller_type</th>\n      <td>46</td>\n      <td>0.002</td>\n    </tr>\n    <tr>\n      <th>km_driven</th>\n      <td>46</td>\n      <td>0.002</td>\n    </tr>\n    <tr>\n      <th>owner_type</th>\n      <td>46</td>\n      <td>0.002</td>\n    </tr>\n    <tr>\n      <th>fuel_type</th>\n      <td>46</td>\n      <td>0.002</td>\n    </tr>\n    <tr>\n      <th>transmission_type</th>\n      <td>46</td>\n      <td>0.002</td>\n    </tr>\n    <tr>\n      <th>mileage</th>\n      <td>46</td>\n      <td>0.002</td>\n    </tr>\n  </tbody>\n</table>\n</div>",
                        "text/plain": "                   Number of Null Values  % of null values\nColumn                                                    \nseats                                173             0.009\nengine                               105             0.005\nmax_power                            105             0.005\nfull_name                             46             0.002\nselling_price                         46             0.002\nyear                                  46             0.002\nseller_type                           46             0.002\nkm_driven                             46             0.002\nowner_type                            46             0.002\nfuel_type                             46             0.002\ntransmission_type                     46             0.002\nmileage                               46             0.002"
                    },
                    "metadata": {},
                    "output_type": "display_data"
                }
            ],
            "source": "Column,NullValues,NullValuespercentage = [],[],[]\nfor i in data.columns:\n    Column.append(i)\n    NullValues.append(data[i].isnull().sum())\n    NullValuespercentage.append(round(data[i].isnull().mean(),3))\ndisplay(pd.DataFrame({'Column':Column,'Number of Null Values':NullValues,'% of null values':NullValuespercentage}).sort_values(by='% of null values',ascending=False).set_index('Column'))"
        },
        {
            "cell_type": "markdown",
            "metadata": {},
            "source": "Since the highest number of null values is still **less than 0.10%**, we can simply delete those entries"
        },
        {
            "cell_type": "code",
            "execution_count": 575,
            "metadata": {},
            "outputs": [],
            "source": "data = data.dropna()"
        },
        {
            "cell_type": "markdown",
            "metadata": {},
            "source": "Now with null values removed, we can proceed to working on the features"
        },
        {
            "cell_type": "markdown",
            "metadata": {},
            "source": "## Data Correction"
        },
        {
            "cell_type": "code",
            "execution_count": 576,
            "metadata": {
                "scrolled": true
            },
            "outputs": [
                {
                    "data": {
                        "text/html": "<div>\n<style scoped>\n    .dataframe tbody tr th:only-of-type {\n        vertical-align: middle;\n    }\n\n    .dataframe tbody tr th {\n        vertical-align: top;\n    }\n\n    .dataframe thead th {\n        text-align: right;\n    }\n</style>\n<table border=\"1\" class=\"dataframe\">\n  <thead>\n    <tr style=\"text-align: right;\">\n      <th></th>\n      <th>full_name</th>\n      <th>selling_price</th>\n      <th>year</th>\n      <th>seller_type</th>\n      <th>km_driven</th>\n      <th>owner_type</th>\n      <th>fuel_type</th>\n      <th>transmission_type</th>\n      <th>mileage</th>\n      <th>engine</th>\n      <th>max_power</th>\n      <th>seats</th>\n    </tr>\n  </thead>\n  <tbody>\n    <tr>\n      <th>0</th>\n      <td>Maruti Alto Std</td>\n      <td>1.2 Lakh*</td>\n      <td>2012.0</td>\n      <td>Individual</td>\n      <td>1,20,000 kms</td>\n      <td>First Owner</td>\n      <td>Petrol</td>\n      <td>Manual</td>\n      <td>Mileage19.7 kmpl</td>\n      <td>Engine796 CC</td>\n      <td>Max Power46.3 bhp</td>\n      <td>Seats5</td>\n    </tr>\n    <tr>\n      <th>1</th>\n      <td>Hyundai Grand i10 Asta</td>\n      <td>5.5 Lakh*</td>\n      <td>2016.0</td>\n      <td>Individual</td>\n      <td>20,000 kms</td>\n      <td>First Owner</td>\n      <td>Petrol</td>\n      <td>Manual</td>\n      <td>Mileage18.9 kmpl</td>\n      <td>Engine1197 CC</td>\n      <td>Max Power82 bhp</td>\n      <td>Seats5</td>\n    </tr>\n    <tr>\n      <th>2</th>\n      <td>Hyundai i20 Asta</td>\n      <td>2.15 Lakh*</td>\n      <td>2010.0</td>\n      <td>Individual</td>\n      <td>60,000 kms</td>\n      <td>First Owner</td>\n      <td>Petrol</td>\n      <td>Manual</td>\n      <td>Mileage17.0 kmpl</td>\n      <td>Engine1197 CC</td>\n      <td>Max Power80 bhp</td>\n      <td>Seats5</td>\n    </tr>\n    <tr>\n      <th>3</th>\n      <td>Maruti Alto K10 2010-2014 VXI</td>\n      <td>2.26 Lakh*</td>\n      <td>2012.0</td>\n      <td>Individual</td>\n      <td>37,000 kms</td>\n      <td>First Owner</td>\n      <td>Petrol</td>\n      <td>Manual</td>\n      <td>Mileage20.92 kmpl</td>\n      <td>Engine998 CC</td>\n      <td>Max Power67.1 bhp</td>\n      <td>Seats5</td>\n    </tr>\n    <tr>\n      <th>4</th>\n      <td>Ford Ecosport 2015-2021 1.5 TDCi Titanium BSIV</td>\n      <td>5.7 Lakh*</td>\n      <td>2015.0</td>\n      <td>Dealer</td>\n      <td>30,000 kms</td>\n      <td>First Owner</td>\n      <td>Diesel</td>\n      <td>Manual</td>\n      <td>Mileage22.77 kmpl</td>\n      <td>Engine1498 CC</td>\n      <td>Max Power98.59 bhp</td>\n      <td>Seats5</td>\n    </tr>\n  </tbody>\n</table>\n</div>",
                        "text/plain": "                                        full_name selling_price    year  \\\n0                                 Maruti Alto Std     1.2 Lakh*  2012.0   \n1                          Hyundai Grand i10 Asta     5.5 Lakh*  2016.0   \n2                                Hyundai i20 Asta    2.15 Lakh*  2010.0   \n3                   Maruti Alto K10 2010-2014 VXI    2.26 Lakh*  2012.0   \n4  Ford Ecosport 2015-2021 1.5 TDCi Titanium BSIV     5.7 Lakh*  2015.0   \n\n  seller_type     km_driven   owner_type fuel_type transmission_type  \\\n0  Individual  1,20,000 kms  First Owner    Petrol            Manual   \n1  Individual    20,000 kms  First Owner    Petrol            Manual   \n2  Individual    60,000 kms  First Owner    Petrol            Manual   \n3  Individual    37,000 kms  First Owner    Petrol            Manual   \n4      Dealer    30,000 kms  First Owner    Diesel            Manual   \n\n             mileage         engine           max_power   seats  \n0   Mileage19.7 kmpl   Engine796 CC   Max Power46.3 bhp  Seats5  \n1   Mileage18.9 kmpl  Engine1197 CC     Max Power82 bhp  Seats5  \n2   Mileage17.0 kmpl  Engine1197 CC     Max Power80 bhp  Seats5  \n3  Mileage20.92 kmpl   Engine998 CC   Max Power67.1 bhp  Seats5  \n4  Mileage22.77 kmpl  Engine1498 CC  Max Power98.59 bhp  Seats5  "
                    },
                    "execution_count": 576,
                    "metadata": {},
                    "output_type": "execute_result"
                }
            ],
            "source": "data.head()"
        },
        {
            "cell_type": "markdown",
            "metadata": {},
            "source": "The _selling_price_ should be numeric in order to draw work easily on it, hence the next step is to remove the unwanted characters and convert the column to a float type"
        },
        {
            "cell_type": "code",
            "execution_count": null,
            "metadata": {},
            "outputs": [],
            "source": "selling_price = []\nfor i in data['selling_price'].str.upper():\n    if \"LAND ROVER\" in i:\n        temp = i.split(',')[0]\n        temp = int(temp)/100\n        selling_price.append(temp)\n    else:\n        selling_price.append(float(i))\ndata['selling_price'] = selling_price\ndata.rename(columns = {'selling_price':'selling_price (in lakhs)'}, inplace = True)"
        },
        {
            "cell_type": "markdown",
            "metadata": {},
            "source": "Firstly, the _full_name_ should be split into _model, maker_ and _variant_ ro help with visualsiation later on"
        },
        {
            "cell_type": "code",
            "execution_count": 577,
            "metadata": {},
            "outputs": [
                {
                    "name": "stderr",
                    "output_type": "stream",
                    "text": "<ipython-input-577-6f3d4454fbc7>:10: SettingWithCopyWarning: \nA value is trying to be set on a copy of a slice from a DataFrame\n\nSee the caveats in the documentation: https://pandas.pydata.org/pandas-docs/stable/user_guide/indexing.html#returning-a-view-versus-a-copy\n  data['variant'][i] = data['model'][i]\n"
                }
            ],
            "source": "maker = data[\"full_name\"].str.upper().str.split(\" \", n = 2, expand = True)[0]\ndata['maker']=maker\nmodel = data[\"full_name\"].str.upper().str.split(\" \", n = 2, expand = True)[1]      \ndata['model']=model\nvariant = data[\"full_name\"].str.upper().str.split(\" \", n = 2, expand = True)[2]\ndata['variant']=variant\ndata = data.drop('full_name',axis=1)\nfor i in data.index:\n    if data['variant'][i] == None:\n        data['variant'][i] = data['model'][i]\n#data.head()"
        },
        {
            "cell_type": "markdown",
            "metadata": {},
            "source": "Now, converting the _year_ column to the _age_ column will help as it reduces the scale of the numbers and is easier to interpret"
        },
        {
            "cell_type": "code",
            "execution_count": 578,
            "metadata": {},
            "outputs": [],
            "source": "data['year']=2021 - data['year']\ndata.rename(columns = {'year':'age'}, inplace = True)\n#data.head()"
        },
        {
            "cell_type": "markdown",
            "metadata": {},
            "source": "The _km_driven_ should be numeric in order to draw work easily on it, hence the next step is to remove the unwanted characters and convert the column to a float type"
        },
        {
            "cell_type": "code",
            "execution_count": 580,
            "metadata": {},
            "outputs": [],
            "source": "data['km_driven'] = data[\"km_driven\"].str.split(\" kms\", n = 1, expand = True)[0].str.replace(',', '').astype(int)/1000\ndata.rename(columns = {'km_driven':'km_driven (in thousands)'}, inplace = True)\n#data.head()"
        },
        {
            "cell_type": "markdown",
            "metadata": {},
            "source": "The _mileage_ should be numeric in order to draw work easily on it, hence the next step is to remove the unwanted characters and convert the column to a float type"
        },
        {
            "cell_type": "code",
            "execution_count": 581,
            "metadata": {},
            "outputs": [],
            "source": "data['mileage'] = data[\"mileage\"].str.split(\"kmpl\", n = 1, expand = True)[0].str.split(\"Mileage\", n = 1, expand = True)[1]\ndata['mileage'] = data[\"mileage\"].str.split(\" km/kg\", n = 1, expand = True)[0].str.split(\" km/hr\", n = 1, expand = True)[0]\n\ndata['mileage'] = data[\"mileage\"].astype(float)\n#data.head() km/hr"
        },
        {
            "cell_type": "markdown",
            "metadata": {},
            "source": "The _engine_ should be numeric in order to draw work easily on it, hence the next step is to remove the unwanted characters and convert the column to a integer type"
        },
        {
            "cell_type": "code",
            "execution_count": 582,
            "metadata": {},
            "outputs": [],
            "source": "data['engine'] = data[\"engine\"].str.split(\" CC\", n = 1, expand = True)[0].str.split(\"Engine\", n = 1, expand = True)[1]\ndata = data[data['engine']!='']\ndata['engine'] = data['engine'].astype(int)\n#The above line is done to remove any null entries which remain after strings have been removed\ndata.rename(columns = {'engine':'engine_size (in cc)'}, inplace = True)"
        },
        {
            "cell_type": "markdown",
            "metadata": {},
            "source": "The _max_power_ should be numeric in order to draw work easily on it, hence the next step is to remove the unwanted characters and convert the column to a float type"
        },
        {
            "cell_type": "code",
            "execution_count": 583,
            "metadata": {},
            "outputs": [],
            "source": "data['max_power'] = data[\"max_power\"].str.split(\" bhp\", n = 1, expand = True)[0].str.split(\"Power\", n = 1, expand = True)[1]\ndata=data[data['max_power']!='null']\ndata=data[data['max_power']!='']\n#The above line is done to remove any null entries which remain after strings have been removed\ndata['max_power'] = data['max_power'].astype(float)\ndata.rename(columns = {'max_power':'max_power (in bhp)'}, inplace = True)"
        },
        {
            "cell_type": "markdown",
            "metadata": {},
            "source": "The _seats_ should be numeric in order to draw work easily on it, hence the next step is to remove the unwanted characters and convert the column to a integer type"
        },
        {
            "cell_type": "code",
            "execution_count": 584,
            "metadata": {},
            "outputs": [],
            "source": "data['seats'] = data[\"seats\"].str.split(\"Seats\", n = 1, expand = True)[1]\ndata=data[data['seats']!='N/A']\ndata['seats'] = data['seats'].astype(int)"
        },
        {
            "cell_type": "markdown",
            "metadata": {},
            "source": "post resetting the index, we can see the finished dataset and compare it with the one imported"
        },
        {
            "cell_type": "code",
            "execution_count": 585,
            "metadata": {},
            "outputs": [],
            "source": "data = data.reset_index().drop('index',axis=1)"
        },
        {
            "cell_type": "code",
            "execution_count": 586,
            "metadata": {},
            "outputs": [
                {
                    "data": {
                        "text/html": "<div>\n<style scoped>\n    .dataframe tbody tr th:only-of-type {\n        vertical-align: middle;\n    }\n\n    .dataframe tbody tr th {\n        vertical-align: top;\n    }\n\n    .dataframe thead th {\n        text-align: right;\n    }\n</style>\n<table border=\"1\" class=\"dataframe\">\n  <thead>\n    <tr style=\"text-align: right;\">\n      <th></th>\n      <th>selling_price (in lakhs)</th>\n      <th>age</th>\n      <th>seller_type</th>\n      <th>km_driven (in thousands)</th>\n      <th>owner_type</th>\n      <th>fuel_type</th>\n      <th>transmission_type</th>\n      <th>mileage</th>\n      <th>engine_size (in cc)</th>\n      <th>max_power (in bhp)</th>\n      <th>seats</th>\n      <th>maker</th>\n      <th>model</th>\n      <th>variant</th>\n    </tr>\n  </thead>\n  <tbody>\n    <tr>\n      <th>0</th>\n      <td>1.20</td>\n      <td>9.0</td>\n      <td>Individual</td>\n      <td>120.0</td>\n      <td>First Owner</td>\n      <td>Petrol</td>\n      <td>Manual</td>\n      <td>19.70</td>\n      <td>796</td>\n      <td>46.30</td>\n      <td>5</td>\n      <td>MARUTI</td>\n      <td>ALTO</td>\n      <td>STD</td>\n    </tr>\n    <tr>\n      <th>1</th>\n      <td>5.50</td>\n      <td>5.0</td>\n      <td>Individual</td>\n      <td>20.0</td>\n      <td>First Owner</td>\n      <td>Petrol</td>\n      <td>Manual</td>\n      <td>18.90</td>\n      <td>1197</td>\n      <td>82.00</td>\n      <td>5</td>\n      <td>HYUNDAI</td>\n      <td>GRAND</td>\n      <td>I10 ASTA</td>\n    </tr>\n    <tr>\n      <th>2</th>\n      <td>2.15</td>\n      <td>11.0</td>\n      <td>Individual</td>\n      <td>60.0</td>\n      <td>First Owner</td>\n      <td>Petrol</td>\n      <td>Manual</td>\n      <td>17.00</td>\n      <td>1197</td>\n      <td>80.00</td>\n      <td>5</td>\n      <td>HYUNDAI</td>\n      <td>I20</td>\n      <td>ASTA</td>\n    </tr>\n    <tr>\n      <th>3</th>\n      <td>2.26</td>\n      <td>9.0</td>\n      <td>Individual</td>\n      <td>37.0</td>\n      <td>First Owner</td>\n      <td>Petrol</td>\n      <td>Manual</td>\n      <td>20.92</td>\n      <td>998</td>\n      <td>67.10</td>\n      <td>5</td>\n      <td>MARUTI</td>\n      <td>ALTO</td>\n      <td>K10 2010-2014 VXI</td>\n    </tr>\n    <tr>\n      <th>4</th>\n      <td>5.70</td>\n      <td>6.0</td>\n      <td>Dealer</td>\n      <td>30.0</td>\n      <td>First Owner</td>\n      <td>Diesel</td>\n      <td>Manual</td>\n      <td>22.77</td>\n      <td>1498</td>\n      <td>98.59</td>\n      <td>5</td>\n      <td>FORD</td>\n      <td>ECOSPORT</td>\n      <td>2015-2021 1.5 TDCI TITANIUM BSIV</td>\n    </tr>\n  </tbody>\n</table>\n</div>",
                        "text/plain": "   selling_price (in lakhs)   age seller_type  km_driven (in thousands)  \\\n0                      1.20   9.0  Individual                     120.0   \n1                      5.50   5.0  Individual                      20.0   \n2                      2.15  11.0  Individual                      60.0   \n3                      2.26   9.0  Individual                      37.0   \n4                      5.70   6.0      Dealer                      30.0   \n\n    owner_type fuel_type transmission_type  mileage  engine_size (in cc)  \\\n0  First Owner    Petrol            Manual    19.70                  796   \n1  First Owner    Petrol            Manual    18.90                 1197   \n2  First Owner    Petrol            Manual    17.00                 1197   \n3  First Owner    Petrol            Manual    20.92                  998   \n4  First Owner    Diesel            Manual    22.77                 1498   \n\n   max_power (in bhp)  seats    maker     model  \\\n0               46.30      5   MARUTI      ALTO   \n1               82.00      5  HYUNDAI     GRAND   \n2               80.00      5  HYUNDAI       I20   \n3               67.10      5   MARUTI      ALTO   \n4               98.59      5     FORD  ECOSPORT   \n\n                            variant  \n0                               STD  \n1                          I10 ASTA  \n2                              ASTA  \n3                 K10 2010-2014 VXI  \n4  2015-2021 1.5 TDCI TITANIUM BSIV  "
                    },
                    "execution_count": 586,
                    "metadata": {},
                    "output_type": "execute_result"
                }
            ],
            "source": "data.head()"
        },
        {
            "cell_type": "code",
            "execution_count": 587,
            "metadata": {
                "scrolled": true
            },
            "outputs": [
                {
                    "name": "stdout",
                    "output_type": "stream",
                    "text": "<class 'pandas.core.frame.DataFrame'>\nRangeIndex: 19631 entries, 0 to 19630\nData columns (total 14 columns):\n #   Column                    Non-Null Count  Dtype  \n---  ------                    --------------  -----  \n 0   selling_price (in lakhs)  19631 non-null  float64\n 1   age                       19631 non-null  float64\n 2   seller_type               19631 non-null  object \n 3   km_driven (in thousands)  19631 non-null  float64\n 4   owner_type                19631 non-null  object \n 5   fuel_type                 19631 non-null  object \n 6   transmission_type         19631 non-null  object \n 7   mileage                   19631 non-null  float64\n 8   engine_size (in cc)       19631 non-null  int64  \n 9   max_power (in bhp)        19631 non-null  float64\n 10  seats                     19631 non-null  int64  \n 11  maker                     19631 non-null  object \n 12  model                     19631 non-null  object \n 13  variant                   19631 non-null  object \ndtypes: float64(5), int64(2), object(7)\nmemory usage: 2.1+ MB\n"
                }
            ],
            "source": "data.info()"
        },
        {
            "cell_type": "markdown",
            "metadata": {},
            "source": "The cleaned data is just **395** entries smaller than the original dataset had **20026** and gives us a much more easily useable file"
        },
        {
            "cell_type": "markdown",
            "metadata": {},
            "source": "## Export"
        },
        {
            "cell_type": "code",
            "execution_count": 590,
            "metadata": {
                "scrolled": true
            },
            "outputs": [
                {
                    "data": {
                        "text/plain": "{'file_name': 'car_data_cleaned.csv',\n 'message': 'File saved to project storage.',\n 'bucket_name': 'carresaleanalysisandprediction-donotdelete-pr-emys7cc9x01d89',\n 'asset_id': 'b2d93b21-1958-4dca-990d-477adfd5d044'}"
                    },
                    "execution_count": 590,
                    "metadata": {},
                    "output_type": "execute_result"
                }
            ],
            "source": "project.save_data(data=data.to_csv(index=False),file_name='car_data_cleaned.csv',overwrite=True)"
        },
        {
            "cell_type": "markdown",
            "metadata": {},
            "source": "Now the file will be xported to the project as a new csv"
        },
        {
            "cell_type": "markdown",
            "metadata": {},
            "source": "## Notes"
        },
        {
            "cell_type": "markdown",
            "metadata": {},
            "source": "### Author \nCreated by **Bhavesh Jain** <br>\nGithub link - https://github.com/bhaveshjain1612 <br>\nLinkedin Link - https://www.linkedin.com/in/bhaveshjain1612/ <br>\nKaggle link - https://www.kaggle.com/bhaveshjain1612 <br>"
        },
        {
            "cell_type": "markdown",
            "metadata": {},
            "source": "### Changelog"
        },
        {
            "cell_type": "markdown",
            "metadata": {},
            "source": "\n| Date      | Name | Change     |\n| :---        |    :----:   |          ---: |\n| 27/09/2021      | Bhavesh Jain       | Created Notebook  |\n| 28/09/2021   | Bhavesh Jain        | Added Added Notes Section      |"
        }
    ],
    "metadata": {
        "kernelspec": {
            "display_name": "Python 3.8",
            "language": "python",
            "name": "python3"
        },
        "language_info": {
            "codemirror_mode": {
                "name": "ipython",
                "version": 3
            },
            "file_extension": ".py",
            "mimetype": "text/x-python",
            "name": "python",
            "nbconvert_exporter": "python",
            "pygments_lexer": "ipython3",
            "version": "3.8.11"
        }
    },
    "nbformat": 4,
    "nbformat_minor": 1
}